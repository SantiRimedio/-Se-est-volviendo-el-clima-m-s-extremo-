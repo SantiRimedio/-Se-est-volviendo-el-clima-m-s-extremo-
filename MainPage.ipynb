{
 "cells": [
  {
   "cell_type": "code",
   "execution_count": 97,
   "id": "0e06b6eb",
   "metadata": {},
   "outputs": [
    {
     "data": {
      "text/html": [
       "<div>\n",
       "<style scoped>\n",
       "    .dataframe tbody tr th:only-of-type {\n",
       "        vertical-align: middle;\n",
       "    }\n",
       "\n",
       "    .dataframe tbody tr th {\n",
       "        vertical-align: top;\n",
       "    }\n",
       "\n",
       "    .dataframe thead th {\n",
       "        text-align: right;\n",
       "    }\n",
       "</style>\n",
       "<table border=\"1\" class=\"dataframe\">\n",
       "  <thead>\n",
       "    <tr style=\"text-align: right;\">\n",
       "      <th></th>\n",
       "      <th>STATION</th>\n",
       "      <th>NAME</th>\n",
       "      <th>DATE</th>\n",
       "      <th>TAVG</th>\n",
       "      <th>TMAX</th>\n",
       "      <th>TMIN</th>\n",
       "    </tr>\n",
       "  </thead>\n",
       "  <tbody>\n",
       "    <tr>\n",
       "      <th>0</th>\n",
       "      <td>ARM00087582</td>\n",
       "      <td>AEROPARQUE JORGE NEWBERY, AR</td>\n",
       "      <td>2002-01-01</td>\n",
       "      <td>25.3</td>\n",
       "      <td>NaN</td>\n",
       "      <td>19.5</td>\n",
       "    </tr>\n",
       "    <tr>\n",
       "      <th>1</th>\n",
       "      <td>ARM00087582</td>\n",
       "      <td>AEROPARQUE JORGE NEWBERY, AR</td>\n",
       "      <td>2002-01-02</td>\n",
       "      <td>25.0</td>\n",
       "      <td>30.5</td>\n",
       "      <td>22.0</td>\n",
       "    </tr>\n",
       "    <tr>\n",
       "      <th>2</th>\n",
       "      <td>ARM00087582</td>\n",
       "      <td>AEROPARQUE JORGE NEWBERY, AR</td>\n",
       "      <td>2002-01-03</td>\n",
       "      <td>24.2</td>\n",
       "      <td>27.8</td>\n",
       "      <td>21.5</td>\n",
       "    </tr>\n",
       "    <tr>\n",
       "      <th>3</th>\n",
       "      <td>ARM00087582</td>\n",
       "      <td>AEROPARQUE JORGE NEWBERY, AR</td>\n",
       "      <td>2002-01-04</td>\n",
       "      <td>22.9</td>\n",
       "      <td>27.0</td>\n",
       "      <td>NaN</td>\n",
       "    </tr>\n",
       "    <tr>\n",
       "      <th>4</th>\n",
       "      <td>ARM00087582</td>\n",
       "      <td>AEROPARQUE JORGE NEWBERY, AR</td>\n",
       "      <td>2002-01-05</td>\n",
       "      <td>18.4</td>\n",
       "      <td>24.9</td>\n",
       "      <td>17.0</td>\n",
       "    </tr>\n",
       "  </tbody>\n",
       "</table>\n",
       "</div>"
      ],
      "text/plain": [
       "       STATION                          NAME        DATE  TAVG  TMAX  TMIN\n",
       "0  ARM00087582  AEROPARQUE JORGE NEWBERY, AR  2002-01-01  25.3   NaN  19.5\n",
       "1  ARM00087582  AEROPARQUE JORGE NEWBERY, AR  2002-01-02  25.0  30.5  22.0\n",
       "2  ARM00087582  AEROPARQUE JORGE NEWBERY, AR  2002-01-03  24.2  27.8  21.5\n",
       "3  ARM00087582  AEROPARQUE JORGE NEWBERY, AR  2002-01-04  22.9  27.0   NaN\n",
       "4  ARM00087582  AEROPARQUE JORGE NEWBERY, AR  2002-01-05  18.4  24.9  17.0"
      ]
     },
     "execution_count": 97,
     "metadata": {},
     "output_type": "execute_result"
    }
   ],
   "source": [
    "import pandas as pd\n",
    "import matplotlib.pyplot as plt\n",
    "import numpy as np\n",
    "\n",
    "#Read file\n",
    "df = pd.read_csv(\"venv/weatherbsas.csv\")\n",
    "df.head()"
   ]
  },
  {
   "cell_type": "code",
   "execution_count": 98,
   "id": "659b2328",
   "metadata": {},
   "outputs": [
    {
     "data": {
      "text/html": [
       "<div>\n",
       "<style scoped>\n",
       "    .dataframe tbody tr th:only-of-type {\n",
       "        vertical-align: middle;\n",
       "    }\n",
       "\n",
       "    .dataframe tbody tr th {\n",
       "        vertical-align: top;\n",
       "    }\n",
       "\n",
       "    .dataframe thead th {\n",
       "        text-align: right;\n",
       "    }\n",
       "</style>\n",
       "<table border=\"1\" class=\"dataframe\">\n",
       "  <thead>\n",
       "    <tr style=\"text-align: right;\">\n",
       "      <th></th>\n",
       "      <th>NAME</th>\n",
       "      <th>TMAX</th>\n",
       "      <th>TMIN</th>\n",
       "    </tr>\n",
       "    <tr>\n",
       "      <th>DATE</th>\n",
       "      <th></th>\n",
       "      <th></th>\n",
       "      <th></th>\n",
       "    </tr>\n",
       "  </thead>\n",
       "  <tbody>\n",
       "    <tr>\n",
       "      <th>2002-01-01</th>\n",
       "      <td>AEROPARQUE JORGE NEWBERY, AR</td>\n",
       "      <td>NaN</td>\n",
       "      <td>19.5</td>\n",
       "    </tr>\n",
       "    <tr>\n",
       "      <th>2002-01-01</th>\n",
       "      <td>MINISTRO PISTARINI, AR</td>\n",
       "      <td>NaN</td>\n",
       "      <td>NaN</td>\n",
       "    </tr>\n",
       "    <tr>\n",
       "      <th>2002-01-01</th>\n",
       "      <td>BUENOS AIRES OBSERV, AR</td>\n",
       "      <td>30.1</td>\n",
       "      <td>19.4</td>\n",
       "    </tr>\n",
       "    <tr>\n",
       "      <th>2002-01-02</th>\n",
       "      <td>AEROPARQUE JORGE NEWBERY, AR</td>\n",
       "      <td>30.5</td>\n",
       "      <td>22.0</td>\n",
       "    </tr>\n",
       "    <tr>\n",
       "      <th>2002-01-02</th>\n",
       "      <td>BUENOS AIRES OBSERV, AR</td>\n",
       "      <td>30.9</td>\n",
       "      <td>20.6</td>\n",
       "    </tr>\n",
       "    <tr>\n",
       "      <th>2002-01-02</th>\n",
       "      <td>MINISTRO PISTARINI, AR</td>\n",
       "      <td>NaN</td>\n",
       "      <td>18.5</td>\n",
       "    </tr>\n",
       "  </tbody>\n",
       "</table>\n",
       "</div>"
      ],
      "text/plain": [
       "                                    NAME  TMAX  TMIN\n",
       "DATE                                                \n",
       "2002-01-01  AEROPARQUE JORGE NEWBERY, AR   NaN  19.5\n",
       "2002-01-01        MINISTRO PISTARINI, AR   NaN   NaN\n",
       "2002-01-01       BUENOS AIRES OBSERV, AR  30.1  19.4\n",
       "2002-01-02  AEROPARQUE JORGE NEWBERY, AR  30.5  22.0\n",
       "2002-01-02       BUENOS AIRES OBSERV, AR  30.9  20.6\n",
       "2002-01-02        MINISTRO PISTARINI, AR   NaN  18.5"
      ]
     },
     "execution_count": 98,
     "metadata": {},
     "output_type": "execute_result"
    }
   ],
   "source": [
    "#Clean file of unncecesary data\n",
    "df.drop(columns=[\"STATION\",\"TAVG\"], inplace=True)\n",
    "\n",
    "\n",
    "# Convert to datetime format\n",
    "df[\"DATE\"] = pd.to_datetime(df[\"DATE\"])\n",
    "\n",
    "#sort by date\n",
    "df = df.sort_values(by=\"DATE\")\n",
    "\n",
    "#Drop leap days\n",
    "df = df[~((df[\"DATE\"].dt.month == 2) & (df[\"DATE\"].dt.day == 29))]\n",
    "\n",
    "#Index as date\n",
    "df.set_index(\"DATE\",inplace=True)\n",
    "df.head(6)"
   ]
  },
  {
   "cell_type": "code",
   "execution_count": 99,
   "id": "115483fe",
   "metadata": {},
   "outputs": [
    {
     "data": {
      "text/plain": [
       "7663"
      ]
     },
     "execution_count": 99,
     "metadata": {},
     "output_type": "execute_result"
    }
   ],
   "source": [
    "#split tmin and max into series\n",
    "df_max = df[\"TMAX\"]\n",
    "df_min = df[\"TMIN\"]\n",
    "\n",
    "#Groupby date\n",
    "df_min = df_min.groupby(df.index.to_series().dt.date).min()\n",
    "df_max = df_max.groupby(df.index.to_series().dt.date).max()\n",
    "\n",
    "#Convert index to datetime format\n",
    "df_max.index= pd.to_datetime(df_max.index)\n",
    "df_min.index= pd.to_datetime(df_max.index)\n",
    "\n",
    "len(df_min)"
   ]
  },
  {
   "cell_type": "code",
   "execution_count": 100,
   "id": "cabdb839",
   "metadata": {},
   "outputs": [
    {
     "data": {
      "text/plain": [
       "DATE\n",
       "2002-01-01    19.4\n",
       "2002-01-02    18.5\n",
       "2002-01-03    17.4\n",
       "2002-01-04    18.4\n",
       "2002-01-05    16.6\n",
       "              ... \n",
       "2019-12-27    19.9\n",
       "2019-12-28    20.8\n",
       "2019-12-29    22.4\n",
       "2019-12-30     NaN\n",
       "2019-12-31    20.5\n",
       "Name: TMIN, Length: 6570, dtype: float64"
      ]
     },
     "execution_count": 100,
     "metadata": {},
     "output_type": "execute_result"
    }
   ],
   "source": [
    "#Break last two years\n",
    "max_2020 = df_max[df_max.index.year >= 2020]\n",
    "min_2020 = df_min[df_min.index.year >= 2020]\n",
    "df_max = df_max[df_max.index.year < 2020]\n",
    "df_min = df_min[df_min.index.year < 2020]\n",
    "df_min"
   ]
  },
  {
   "cell_type": "code",
   "execution_count": 101,
   "id": "5bf99182",
   "metadata": {},
   "outputs": [
    {
     "data": {
      "text/plain": [
       "DATE\n",
       "01-01    34.6\n",
       "01-02    34.8\n",
       "01-03    35.0\n",
       "01-04    37.6\n",
       "01-05    33.5\n",
       "         ... \n",
       "12-27    35.0\n",
       "12-28    32.1\n",
       "12-29    34.0\n",
       "12-30    40.1\n",
       "12-31    38.1\n",
       "Name: TMAX, Length: 365, dtype: float64"
      ]
     },
     "execution_count": 101,
     "metadata": {},
     "output_type": "execute_result"
    }
   ],
   "source": [
    "#Change datetime format to day of year\n",
    "max_2020.index = max_2020.index.to_series().apply(lambda x: x.strftime('%m-%d'))\n",
    "min_2020.index = min_2020.index.to_series().apply(lambda x: x.strftime('%m-%d'))\n",
    "df_min.index = df_min.index.to_series().apply(lambda x: x.strftime('%m-%d'))\n",
    "df_max.index = df_max.index.to_series().apply(lambda x: x.strftime('%m-%d'))\n",
    "\n",
    "#Group by day of year\n",
    "record_min = df_min.groupby(df_min.index).min()\n",
    "record_max = df_max.groupby(df_max.index).max()\n",
    "min_2020 = min_2020.groupby(min_2020.index).min()\n",
    "max_2020 = max_2020.groupby(max_2020.index).max()\n",
    "max_2020"
   ]
  },
  
   ],
   "source": [
    "#2015 temps that break records\n",
    "max_2020 = max_2020[max_2020 > record_max]\n",
    "min_2020 = min_2020[min_2020 < record_min]"
   ]
  },
  {
   "cell_type": "code",
   "execution_count": null,
   "id": "3bbfbfa6",
   "metadata": {},
   "outputs": [],
   "source": [
    "def plot():\n",
    "\n",
    "    #Create figure\n",
    "    plt.figure(figsize=(40,20))\n",
    "\n",
    "    #Plot line charts\n",
    "    plt.plot(record_max.index, record_max, record_min.index, record_min,c=\"black\",zorder=2)\n",
    "\n",
    "    #Scatter plots\n",
    "    #plt.scatter(max_2015.index, max_2015, s=80, c=\"red\", label=\"Temperatura extrema alta\",zorder=0)\n",
    "    #plt.scatter(min_2015.index, min_2015, s=80, c=\"blue\", label=\"Temperatura exrema baja\",zorder=0)\n",
    "\n",
    "    #Fill between\n",
    "    plt.gca().fill_between(record_max.index, record_max,record_min, facecolor=\"lightgrey\", alpha=0.25)\n",
    "\n",
    "    #Set x axis in monthly intervals\n",
    "    months = ['Enero', 'Febrero', 'Marzo', 'Abril', 'Mayo', 'Junio', 'Julio', 'Agosto', 'Septiembre', 'Octubre', 'Noviembre', 'Diciembre', \"Enero\"]\n",
    "    plt.xticks(np.linspace(0,365,13), months)\n",
    "    temps = [\"-10° c\",\"O° c\", \"10° c\",\"20° c\",\"30° c\",\"40° c\"]\n",
    "\n",
    "    #Change y axis format to add \"° c\"\n",
    "    plt.yticks(np.linspace(-10,40,6),temps)\n",
    "\n",
    "    #Remove box\n",
    "    for spine in plt.gca().spines.values():\n",
    "        spine.set_visible(False)\n",
    "\n",
    "    #Axis style\n",
    "    plt.tick_params(axis ='x',\n",
    "                   labelsize = 40, colors ='black',width=5, length=10, labelrotation=45)\n",
    "    plt.tick_params(axis ='y',\n",
    "                   labelsize = 30, colors ='black',width=5, length= 10,)\n",
    "\n",
    "    #Title and legend\n",
    "    plt.title(\"Temperaturas extremas en Buenos Aires. Periodo 2002-2022.\", fontsize=80);\n",
    "    #plt.legend(loc=4, frameon=False, title='', fontsize=40, title_fontsize=40);\n",
    "\n",
    "\n",
    "    return plt.savefig('my_plot.png',bbox_inches='tight')"
   ]
  },
  {
   "cell_type": "code",
   "execution_count": null,
   "id": "7ef64c68",
   "metadata": {},
   "outputs": [],
   "source": [
    "plot()"
   ]
  },
  {
   "cell_type": "code",
   "execution_count": null,
   "id": "1eeeb276",
   "metadata": {},
   "outputs": [],
   "source": []
  }
 ],
 "metadata": {
  "kernelspec": {
   "display_name": "Python 3 (ipykernel)",
   "language": "python",
   "name": "python3"
  },
  "language_info": {
   "codemirror_mode": {
    "name": "ipython",
    "version": 3
   },
   "file_extension": ".py",
   "mimetype": "text/x-python",
   "name": "python",
   "nbconvert_exporter": "python",
   "pygments_lexer": "ipython3",
   "version": "3.11.0"
  }
 },
 "nbformat": 4,
 "nbformat_minor": 5
}
